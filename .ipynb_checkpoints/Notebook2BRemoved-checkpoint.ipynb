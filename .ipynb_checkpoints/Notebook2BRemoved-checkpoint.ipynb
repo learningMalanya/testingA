{
 "cells": [
  {
   "cell_type": "markdown",
   "id": "8b9db696-3850-417f-8d4a-cf8edd2df71d",
   "metadata": {},
   "source": [
    "## Notebook example to remove"
   ]
  },
  {
   "cell_type": "code",
   "execution_count": 2,
   "id": "aa79f378-37f0-4e34-a5fd-7ced1b7824bc",
   "metadata": {},
   "outputs": [
    {
     "data": {
      "text/plain": [
       "2"
      ]
     },
     "execution_count": 2,
     "metadata": {},
     "output_type": "execute_result"
    }
   ],
   "source": [
    "1+1"
   ]
  },
  {
   "cell_type": "code",
   "execution_count": 3,
   "id": "fa7d1c5f-280e-4b7e-a1f2-4e155bb63503",
   "metadata": {},
   "outputs": [
    {
     "data": {
      "text/plain": [
       "4"
      ]
     },
     "execution_count": 3,
     "metadata": {},
     "output_type": "execute_result"
    }
   ],
   "source": [
    "2+2"
   ]
  },
  {
   "cell_type": "code",
   "execution_count": null,
   "id": "811b96c5-42be-4fc5-9488-d3c276e4a2c9",
   "metadata": {},
   "outputs": [],
   "source": []
  }
 ],
 "metadata": {
  "kernelspec": {
   "display_name": "Julia 1.8.2",
   "language": "julia",
   "name": "julia-1.8"
  },
  "language_info": {
   "file_extension": ".jl",
   "mimetype": "application/julia",
   "name": "julia",
   "version": "1.8.2"
  }
 },
 "nbformat": 4,
 "nbformat_minor": 5
}
